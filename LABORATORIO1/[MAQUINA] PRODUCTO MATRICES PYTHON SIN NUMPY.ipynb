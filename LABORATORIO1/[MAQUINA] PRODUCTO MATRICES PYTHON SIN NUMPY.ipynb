{
 "cells": [
  {
   "cell_type": "code",
   "execution_count": 1,
   "metadata": {},
   "outputs": [],
   "source": [
    "import numpy as np\n",
    "import pylab as pl\n",
    "import time\n",
    "import matplotlib.pyplot as plt"
   ]
  },
  {
   "cell_type": "code",
   "execution_count": 3,
   "metadata": {},
   "outputs": [
    {
     "name": "stdout",
     "output_type": "stream",
     "text": [
      "Ingrese el numero n de los arreglos de 1s y 2s de tamano nxn50\n"
     ]
    },
    {
     "data": {
      "image/png": "[encoded data removed]",
      "text/plain": [
       "<matplotlib.figure.Figure at 0x5376eb8>"
      ]
     },
     "metadata": {},
     "output_type": "display_data"
    },
    {
     "name": "stdout",
     "output_type": "stream",
     "text": [
      "[4.1428997863413033e-07, 4.854666798337347e-07, 5.115144816547623e-07, 4.3022009649575915e-07, 4.1052820580509165e-07, 2.5864973140147983e-07, 2.1219832472968436e-07, 1.9493755991523973e-07, 2.142761226135548e-07, 1.8810678789281778e-07, 1.8626962508950097e-07, 1.9477048883494485e-07, 2.030032583982935e-07, 2.0100379620689385e-07, 1.8517759729341082e-07, 1.8672549275856825e-07, 1.844698587878872e-07, 1.8419555854446285e-07, 1.8438844170520774e-07, 1.8347199777174562e-07, 1.7986737642810024e-07, 1.8707365657166597e-07, 1.833415675569792e-07, 1.8509967335774036e-07, 1.823880805587166e-07, 1.8182961084049035e-07, 1.9786018709403415e-07, 1.8801423133949366e-07, 1.9464917199976198e-07, 1.841959099410696e-07, 2.0092620229558234e-07, 1.8321346359459264e-07, 2.3454389680807788e-07, 2.0346912714789814e-07, 2.0043906098121842e-07, 2.0189147082026223e-07, 2.4710254257468236e-07, 1.8723486748703123e-07, 1.8189134226960224e-07, 1.884396760928052e-07, 1.989704786376413e-07, 1.8814831031385926e-07, 1.874742227913914e-07, 1.8679511835191514e-07, 2.1720575403568717e-07, 1.9179438796455668e-07, 1.9833780833084176e-07, 2.054963916335662e-07]\n"
     ]
    }
   ],
   "source": [
    "longitud = int(raw_input(\"Ingrese el numero n de los arreglos de 1s y 2s de tamano nxn\"))\n",
    "\n",
    "def R(filas, columnas):\n",
    "    matrizR = []\n",
    "    for i in range(filas):\n",
    "        matrizR.append([0]*columnas)\n",
    "    for j in range(filas):\n",
    "        for k in range(columnas):\n",
    "            matrizR[j][k] = 0\n",
    "    return matrizR\n",
    "\n",
    "def A(filas, columnas):\n",
    "    matrizA = []\n",
    "    for i in range(filas):\n",
    "        matrizA.append([0]*columnas)\n",
    "    for j in range(filas):\n",
    "        for k in range(columnas):\n",
    "            matrizA[j][k] = 1\n",
    "    return matrizA\n",
    "\n",
    "def B(filas, columnas):\n",
    "    matrizB = []\n",
    "    for i in range(filas):\n",
    "        matrizB.append([0] * columnas)\n",
    "    for j in range(filas):\n",
    "        for k in range(columnas):\n",
    "            matrizB[j][k] = 2\n",
    "    return matrizB\n",
    "\n",
    "listatiempos = []\n",
    "\n",
    "for tamano in range(2, longitud, 1):\n",
    "    matrizA = A(tamano,tamano)\n",
    "    matrizB = B(tamano,tamano)\n",
    "    resultado = R(tamano,tamano)\n",
    "    listapromedio = []\n",
    "\n",
    "    for tiempo in range(10):\n",
    "        tiempoinicio = time.clock()\n",
    "        for i in range(tamano):\n",
    "            for j in range(tamano):\n",
    "                for k in range(tamano):\n",
    "                    resultado[j][k] = resultado[j][k] + (matrizA[i][j] * matrizB[j][k])\n",
    "        tiempofinal = time.clock()\n",
    "        #tiempooperacion = (tiempofinal - tiempoinicio) en caso que se quiera el tiempo total\n",
    "        tiempooperacion = (tiempofinal - tiempoinicio) / (2 * (tamano ** 3))\n",
    "        listapromedio.append(tiempooperacion)\n",
    "\n",
    "    promedio = np.average(listapromedio)\n",
    "    listatiempos.append(promedio)\n",
    "\n",
    "longitudn = np.arange(2, longitud, 1)\n",
    "pl.ylabel(\"Tiempo total por paso\")\n",
    "pl.xlabel(\"Matrices cuadraticas de longitud N\")\n",
    "pl.plot(longitudn, listatiempos)\n",
    "pl.show()\n",
    "\n",
    "print listatiempos"
   ]
  }
 ],
 "metadata": {
  "kernelspec": {
   "display_name": "Python 2",
   "language": "python",
   "name": "python2"
  },
  "language_info": {
   "codemirror_mode": {
    "name": "ipython",
    "version": 2
   },
   "file_extension": ".py",
   "mimetype": "text/x-python",
   "name": "python",
   "nbconvert_exporter": "python",
   "pygments_lexer": "ipython2",
   "version": "2.7.14"
  }
 },
 "nbformat": 4,
 "nbformat_minor": 1
}
