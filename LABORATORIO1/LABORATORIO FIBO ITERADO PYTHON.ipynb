{
 "cells": [
  {
   "cell_type": "code",
   "execution_count": 1,
   "metadata": {
    "collapsed": false
   },
   "outputs": [
    {
     "ename": "SandboxViolation",
     "evalue": "Importing pylab raised an ImportError. Did you mean to import pytz instead?",
     "output_type": "error",
     "traceback": [
      "InputRejected:",
      "Importing pylab raised an ImportError. Did you mean to import pytz instead?"
     ]
    }
   ],
   "source": [
    "import numpy as np\n",
    "import pylab as pl\n",
    "import time\n",
    "\n",
    "def fibI(n):\n",
    "    if( n == 0):\n",
    "        return 0\n",
    "    else:\n",
    "        a = 0\n",
    "        b = 1\n",
    "        for i in range(1,n):\n",
    "            c = (a + b)\n",
    "            a = b\n",
    "            b = c\n",
    "        return b\n",
    "\n",
    "listatiempos = []\n",
    "\n",
    "tiempoinicio = time.clock()\n",
    "for i in range(0, 35000, 1):\n",
    "    resultado_fibo = fibI(i)\n",
    "    tiempofinal = time.clock()\n",
    "    listatiempos.append(tiempofinal-tiempoinicio)\n",
    "    print(\"n=\", i, \"fib(\", i, \")=\", resultado_fibo, \"time\", tiempofinal - tiempoinicio, \"seconds process time\")\n",
    "\n",
    "\n",
    "numeros = np.arange(0, 35000, 1)\n",
    "pl.ylabel(\"Tiempo\")\n",
    "pl.xlabel(\"Numero\")\n",
    "pl.plot(numeros, listatiempos)\n",
    "pl.show()"
   ]
  }
 ],
 "metadata": {
  "kernelspec": {
   "display_name": "Python 2",
   "language": "python",
   "name": "python2"
  },
  "language_info": {
   "codemirror_mode": {
    "name": "ipython",
    "version": 2
   },
   "file_extension": ".py",
   "mimetype": "text/x-python",
   "name": "python",
   "nbconvert_exporter": "python",
   "pygments_lexer": "ipython2",
   "version": "2.7.12"
  }
 },
 "nbformat": 4,
 "nbformat_minor": 0
}
