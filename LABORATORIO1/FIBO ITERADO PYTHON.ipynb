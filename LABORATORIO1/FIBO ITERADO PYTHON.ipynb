{
 "cells": [
  {
   "cell_type": "code",
   "execution_count": 5,
   "metadata": {},
   "outputs": [],
   "source": [
    "import numpy as np\n",
    "import pylab as pl\n",
    "import time\n",
    "import matplotlib.pyplot as plt"
   ]
  },
  {
   "cell_type": "code",
   "execution_count": 6,
   "metadata": {},
   "outputs": [
    {
     "name": "stdout",
     "output_type": "stream",
     "text": [
      "Haste que numero desea sacar Fibonacci100\n"
     ]
    },
    {
     "data": {
      "image/png": "[encoded data removed]",
      "text/plain": [
       "<matplotlib.figure.Figure at 0x57dd5f8>"
      ]
     },
     "metadata": {},
     "output_type": "display_data"
    }
   ],
   "source": [
    "def fibI(n):\n",
    "    if( n == 0):\n",
    "        return 0\n",
    "    else:\n",
    "        a = 0\n",
    "        b = 1\n",
    "        for i in range(1,n):\n",
    "            c = (a + b)\n",
    "            a = b\n",
    "            b = c\n",
    "        return b\n",
    "\n",
    "listatiempos = []\n",
    "limite = int(raw_input(\"Haste que numero desea sacar Fibonacci\"))\n",
    "\n",
    "tiempoinicio = time.clock()\n",
    "for i in range(0, limite, 1):\n",
    "    resultado_fibo = fibI(i)\n",
    "    tiempofinal = time.clock()\n",
    "    listatiempos.append(tiempofinal-tiempoinicio)\n",
    "    #print(\"n=\", i, \"fib(\", i, \")=\", resultado_fibo, \"time\", tiempofinal - tiempoinicio, \"seconds process time\")\n",
    "    #sirve para mostrar el numero, el resultado de fibo y el tiempo exacto \n",
    "\n",
    "\n",
    "numeros = np.arange(0, limite, 1)\n",
    "pl.ylabel(\"Tiempo\")\n",
    "pl.xlabel(\"Numero\")\n",
    "pl.plot(numeros, listatiempos)\n",
    "pl.show()\n"
   ]
  },
  {
   "cell_type": "code",
   "execution_count": 3,
   "metadata": {},
   "outputs": [
    {
     "name": "stdout",
     "output_type": "stream",
     "text": [
      "FIBO ITERADO EN PYTHON\n"
     ]
    }
   ],
   "source": [
    "print \"FIBO ITERADO EN PYTHON\""
   ]
  }
 ],
 "metadata": {
  "kernelspec": {
   "display_name": "Python 2",
   "language": "python",
   "name": "python2"
  },
  "language_info": {
   "codemirror_mode": {
    "name": "ipython",
    "version": 2
   },
   "file_extension": ".py",
   "mimetype": "text/x-python",
   "name": "python",
   "nbconvert_exporter": "python",
   "pygments_lexer": "ipython2",
   "version": "2.7.14"
  }
 },
 "nbformat": 4,
 "nbformat_minor": 1
}
