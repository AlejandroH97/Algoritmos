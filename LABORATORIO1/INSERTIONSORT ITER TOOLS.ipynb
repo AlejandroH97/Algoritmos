{
 "cells": [
  {
   "cell_type": "code",
   "execution_count": 6,
   "metadata": {},
   "outputs": [],
   "source": [
    "import numpy as np\n",
    "import matplotlib.pyplot as plt\n",
    "from itertools import permutations"
   ]
  },
  {
   "cell_type": "code",
   "execution_count": 7,
   "metadata": {},
   "outputs": [],
   "source": [
    "def insertion_sort(lista):\n",
    "\n",
    "    ins = 0\n",
    "    comp = 0\n",
    "    swaps = 0\n",
    "    k = 1\n",
    "    i = 1\n",
    "    while (i < len(lista)):\n",
    "        key = lista[k]\n",
    "        ins += 3\n",
    "        comp += 1\n",
    "        while (k > 0) and (key < lista[k-1]):\n",
    "            lista[k], lista[k-1] = lista[k-1], lista[k]\n",
    "            swaps += 1\n",
    "            k=k-1\n",
    "            ins += 3\n",
    "        i = i+1\n",
    "        k = i\n",
    "        ins += 1\n",
    "    return ins, comp, swaps"
   ]
  },
  {
   "cell_type": "code",
   "execution_count": 8,
   "metadata": {},
   "outputs": [
    {
     "name": "stdout",
     "output_type": "stream",
     "text": [
      "Para 1 hay 1 permutacioies\n",
      "Para 2 hay 2 permutacioies\n",
      "Para 3 hay 6 permutacioies\n",
      "Para 4 hay 24 permutacioies\n",
      "Para 5 hay 120 permutacioies\n",
      "Para 6 hay 720 permutacioies\n",
      "Para 7 hay 5040 permutacioies\n",
      "Para 8 hay 40320 permutacioies\n"
     ]
    }
   ],
   "source": [
    "instruccionespromedio = []\n",
    "comparasionespromedio = []\n",
    "swapspromedio = []\n",
    "max = 9\n",
    "\n",
    "for n in range(1, max):\n",
    "\n",
    "    permut = list(permutations(range(n)))\n",
    "    print(\"Para %s hay %s permutacioies\" % (n, len(permut)))\n",
    "    instrucciones = []\n",
    "    comparaciones = []\n",
    "    swaps = []\n",
    "    for p in permut:\n",
    "        p = list(p)\n",
    "        psorted = insertion_sort(p)\n",
    "        instrucciones.append(psorted[0])\n",
    "        comparaciones.append(psorted[1])\n",
    "        swaps.append(psorted[2])\n",
    "\n",
    "    instruccionespromedio.append(instrucciones)\n",
    "    comparasionespromedio.append(comparaciones)\n",
    "    swapspromedio.append(swaps)\n",
    "\n",
    "\n",
    "def means(medias):\n",
    "    return [np.mean(s) for s in medias]"
   ]
  },
  {
   "cell_type": "code",
   "execution_count": 9,
   "metadata": {},
   "outputs": [
    {
     "name": "stdout",
     "output_type": "stream",
     "text": [
      "()\n",
      "[0.0, 5.5, 12.5, 21.0, 31.0, 42.5, 55.5, 70.0]\n",
      "[0.0, 1.0, 2.0, 3.0, 4.0, 5.0, 6.0, 7.0]\n",
      "[0.0, 0.5, 1.5, 3.0, 5.0, 7.5, 10.5, 14.0]\n"
     ]
    },
    {
     "data": {
      "image/png": "[encoded data removed]",
      "text/plain": [
       "<matplotlib.figure.Figure at 0xeec91d0>"
      ]
     },
     "metadata": {},
     "output_type": "display_data"
    }
   ],
   "source": [
    "fig = plt.figure()\n",
    "ax = plt.subplot(111)\n",
    "x_axe = np.arange(1, max)\n",
    "w = 0.2     # width\n",
    "\n",
    "ins_means = means(instruccionespromedio)\n",
    "print()\n",
    "ax.bar(x_axe, ins_means, w, color=\"#8B0000\")\n",
    "\n",
    "comp_means = means(comparasionespromedio)\n",
    "ax.bar(x_axe+w, comp_means, w, color=\"#808080\")\n",
    "\n",
    "swaps_means = means(swapspromedio)\n",
    "ax.bar(x_axe+2*w, swaps_means, w, color=\"#C0C0C0\")\n",
    "\n",
    "ax.set_xticks(x_axe+w)\n",
    "ax.set_xticklabels(x_axe)\n",
    "ax.legend([\"instruccionses\", \"comparasiones\", \"swaps\"])\n",
    "ax.set_xlabel(\"Permutacion de N\")\n",
    "\n",
    "print(ins_means)\n",
    "print(comp_means)\n",
    "print(swaps_means)\n",
    "\n",
    "plt.show()"
   ]
  },
  {
   "cell_type": "code",
   "execution_count": 5,
   "metadata": {},
   "outputs": [
    {
     "name": "stdout",
     "output_type": "stream",
     "text": [
      "Insertion Sort con Iter Tools\n"
     ]
    }
   ],
   "source": [
    "print \"Insertion Sort con Iter Tools\""
   ]
  }
 ],
 "metadata": {
  "kernelspec": {
   "display_name": "Python 2",
   "language": "python",
   "name": "python2"
  },
  "language_info": {
   "codemirror_mode": {
    "name": "ipython",
    "version": 2
   },
   "file_extension": ".py",
   "mimetype": "text/x-python",
   "name": "python",
   "nbconvert_exporter": "python",
   "pygments_lexer": "ipython2",
   "version": "2.7.14"
  }
 },
 "nbformat": 4,
 "nbformat_minor": 1
}
