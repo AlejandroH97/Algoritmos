{
 "cells": [
  {
   "cell_type": "code",
   "execution_count": 6,
   "metadata": {},
   "outputs": [],
   "source": [
    "import numpy as np\n",
    "import matplotlib.pyplot as plt\n",
    "import random"
   ]
  },
  {
   "cell_type": "code",
   "execution_count": 7,
   "metadata": {},
   "outputs": [],
   "source": [
    "def random_perm(n):\n",
    "    v = [i for i in range(n)]\n",
    "    for i in range(len(v)-1):\n",
    "        j = random.randint(i, len(v)-1)\n",
    "        v[i], v[j] = v[j], v[i]\n",
    "    return v"
   ]
  },
  {
   "cell_type": "code",
   "execution_count": 8,
   "metadata": {},
   "outputs": [],
   "source": [
    "def insertion_sort(lista):\n",
    "\n",
    "    ins = 0\n",
    "    comp = 0\n",
    "    swaps = 0\n",
    "    k = 1\n",
    "    i = 1\n",
    "    while (i < len(lista)):\n",
    "        key = lista[k]\n",
    "        ins += 3\n",
    "        comp += 1\n",
    "        while (k > 0) and (key < lista[k-1]):\n",
    "            lista[k], lista[k-1] = lista[k-1], lista[k]\n",
    "            swaps += 1\n",
    "            k=k-1\n",
    "            ins += 3\n",
    "        i = i+1\n",
    "        k = i\n",
    "        ins += 1\n",
    "    return ins, comp, swaps"
   ]
  },
  {
   "cell_type": "code",
   "execution_count": 9,
   "metadata": {},
   "outputs": [],
   "source": [
    "instruccionespromedio = []\n",
    "comparacionespromedio = []\n",
    "swapspromedio = []\n",
    "max = 33\n",
    "runs = 50\n",
    "\n",
    "for n in range(1, max):\n",
    "    instrucciones = []\n",
    "    comparaciones = []\n",
    "    swaps = []\n",
    "    for _ in range(runs):\n",
    "        p = random_perm(n)\n",
    "        psorted = insertion_sort(p)\n",
    "        instrucciones.append(psorted[0])\n",
    "        comparaciones.append(psorted[1])\n",
    "        swaps.append(psorted[2])\n",
    "\n",
    "    instruccionespromedio.append(instrucciones)\n",
    "    comparacionespromedio.append(comparaciones)\n",
    "    swapspromedio.append(swaps)\n",
    "\n",
    "\n",
    "def means(medias):\n",
    "    return [np.mean(s) for s in medias]"
   ]
  },
  {
   "cell_type": "code",
   "execution_count": 10,
   "metadata": {},
   "outputs": [
    {
     "name": "stdout",
     "output_type": "stream",
     "text": [
      "[0.0, 5.38, 12.98, 20.64, 31.96, 42.98, 53.46, 67.54, 81.92, 106.08, 124.84, 142.52, 167.82, 184.42, 222.86, 235.92, 269.08, 307.7, 314.58, 360.94, 382.58, 436.86, 478.24, 508.64, 540.96, 595.6, 635.48, 676.86, 700.24, 764.36, 820.74, 872.5]\n",
      "[0.0, 1.0, 2.0, 3.0, 4.0, 5.0, 6.0, 7.0, 8.0, 9.0, 10.0, 11.0, 12.0, 13.0, 14.0, 15.0, 16.0, 17.0, 18.0, 19.0, 20.0, 21.0, 22.0, 23.0, 24.0, 25.0, 26.0, 27.0, 28.0, 29.0, 30.0, 31.0]\n",
      "[0.0, 0.46, 1.66, 2.88, 5.32, 7.66, 9.82, 13.18, 16.64, 23.36, 28.28, 32.84, 39.94, 44.14, 55.62, 58.64, 68.36, 79.9, 80.86, 94.98, 100.86, 117.62, 130.08, 138.88, 148.32, 165.2, 177.16, 189.62, 196.08, 216.12, 233.58, 249.5]\n"
     ]
    },
    {
     "data": {
      "image/png": "[encoded data removed]",
      "text/plain": [
       "<matplotlib.figure.Figure at 0xf2d08d0>"
      ]
     },
     "metadata": {},
     "output_type": "display_data"
    }
   ],
   "source": [
    "fig = plt.figure()\n",
    "ax = plt.subplot(111)\n",
    "x_axe = np.arange(1, max)\n",
    "w = 0.2    \n",
    "\n",
    "ins_means = means(instruccionespromedio)\n",
    "ax.bar(x_axe, ins_means, w, color=\"#8B0000\")\n",
    "\n",
    "comp_means = means(comparacionespromedio)\n",
    "ax.bar(x_axe+w, comp_means, w, color=\"#808080\")\n",
    "\n",
    "swaps_means = means(swapspromedio)\n",
    "ax.bar(x_axe+2*w, swaps_means, w, color=\"#C0C0C0\")\n",
    "\n",
    "ax.set_xticks(x_axe+w)\n",
    "ax.set_xticklabels(x_axe)\n",
    "ax.legend([\"instrucciones\", \"comparasiones\", \"swaps\"])\n",
    "ax.set_xlabel(\"Permutacion de N\")\n",
    "\n",
    "print(ins_means)\n",
    "print(comp_means)\n",
    "print(swaps_means)\n",
    "\n",
    "plt.show()"
   ]
  },
  {
   "cell_type": "code",
   "execution_count": null,
   "metadata": {},
   "outputs": [],
   "source": [
    "print \"Insertion Sort con Random\""
   ]
  }
 ],
 "metadata": {
  "kernelspec": {
   "display_name": "Python 2",
   "language": "python",
   "name": "python2"
  },
  "language_info": {
   "codemirror_mode": {
    "name": "ipython",
    "version": 2
   },
   "file_extension": ".py",
   "mimetype": "text/x-python",
   "name": "python",
   "nbconvert_exporter": "python",
   "pygments_lexer": "ipython2",
   "version": "2.7.14"
  }
 },
 "nbformat": 4,
 "nbformat_minor": 1
}
